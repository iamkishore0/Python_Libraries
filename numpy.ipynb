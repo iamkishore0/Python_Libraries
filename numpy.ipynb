{
  "nbformat": 4,
  "nbformat_minor": 0,
  "metadata": {
    "colab": {
      "provenance": [],
      "authorship_tag": "ABX9TyN0xavRoSFt/q0XQoFXkVdl",
      "include_colab_link": true
    },
    "kernelspec": {
      "name": "python3",
      "display_name": "Python 3"
    },
    "language_info": {
      "name": "python"
    }
  },
  "cells": [
    {
      "cell_type": "markdown",
      "metadata": {
        "id": "view-in-github",
        "colab_type": "text"
      },
      "source": [
        "<a href=\"https://colab.research.google.com/github/iamkishore0/Python_Libraries/blob/main/numpy.ipynb\" target=\"_parent\"><img src=\"https://colab.research.google.com/assets/colab-badge.svg\" alt=\"Open In Colab\"/></a>"
      ]
    },
    {
      "cell_type": "code",
      "source": [
        "#Import numpy and name as np\n",
        "import numpy as np"
      ],
      "metadata": {
        "id": "tKeQPTa9Bybv"
      },
      "execution_count": null,
      "outputs": []
    },
    {
      "cell_type": "code",
      "source": [
        "#Create a list and convert that to ndarray\n",
        "a = [1,2,3,4]\n",
        "print(type(a))\n",
        "\n",
        "b = np.array(a)\n",
        "type(b)"
      ],
      "metadata": {
        "colab": {
          "base_uri": "https://localhost:8080/"
        },
        "id": "RrsKs5MOGAPM",
        "outputId": "6ea7c0a0-cbdf-41f6-a694-c4997dcdc2fd"
      },
      "execution_count": null,
      "outputs": [
        {
          "output_type": "stream",
          "name": "stdout",
          "text": [
            "<class 'list'>\n"
          ]
        },
        {
          "output_type": "execute_result",
          "data": {
            "text/plain": [
              "numpy.ndarray"
            ]
          },
          "metadata": {},
          "execution_count": 2
        }
      ]
    },
    {
      "cell_type": "code",
      "source": [
        "#Create an ndarray and check dimention\n",
        "c = np.array([1,2,3])\n",
        "print(c)\n",
        "print(type(c))\n",
        "c.ndim"
      ],
      "metadata": {
        "colab": {
          "base_uri": "https://localhost:8080/"
        },
        "id": "Mb9_bFAMGaLa",
        "outputId": "1fc8fde6-fb39-492f-8885-023fd392182f"
      },
      "execution_count": null,
      "outputs": [
        {
          "output_type": "stream",
          "name": "stdout",
          "text": [
            "[1 2 3]\n",
            "<class 'numpy.ndarray'>\n"
          ]
        },
        {
          "output_type": "execute_result",
          "data": {
            "text/plain": [
              "1"
            ]
          },
          "metadata": {},
          "execution_count": 3
        }
      ]
    },
    {
      "cell_type": "code",
      "source": [
        "#Multi-Dimentional arrays and print dimentions using ndim\n",
        "x = np.array([1,2,3,4,5])\n",
        "d = np.array([[1,2,3],[4,5,6]])\n",
        "e = np.array([[[1,2,3],[3,4,5],[6,7,8]]])\n",
        "\n",
        "print(x.ndim)\n",
        "print(d.ndim)\n",
        "print(e.ndim)"
      ],
      "metadata": {
        "colab": {
          "base_uri": "https://localhost:8080/"
        },
        "id": "m4HNmxoDG20P",
        "outputId": "98fa5778-4791-4cbe-99af-b9dbe90dc11e"
      },
      "execution_count": null,
      "outputs": [
        {
          "output_type": "stream",
          "name": "stdout",
          "text": [
            "1\n",
            "2\n",
            "3\n"
          ]
        }
      ]
    },
    {
      "cell_type": "code",
      "source": [
        "#Shape of arrays - Rows and Columns\n",
        "f = np.array([[1,2],[3,4]])\n",
        "g = np.array([[[1,2],[3,4],[5,6]]])\n",
        "h = np.array([[1,2,3],[2,3,4]])\n",
        "i = np.array([[[[1,2,3,4,5],[4,5,6,7,8],[7,8,9,1,2],[2,3,4,5,6]]]])\n",
        "\n",
        "print(f.shape)\n",
        "print(g.shape)\n",
        "print(h.shape)\n",
        "print(i.shape)"
      ],
      "metadata": {
        "colab": {
          "base_uri": "https://localhost:8080/"
        },
        "id": "C7-ymGySH1Ej",
        "outputId": "521b96e8-6a81-4510-ceb9-8ab65a1123da"
      },
      "execution_count": null,
      "outputs": [
        {
          "output_type": "stream",
          "name": "stdout",
          "text": [
            "(2, 2)\n",
            "(1, 3, 2)\n",
            "(2, 3)\n",
            "(1, 1, 4, 5)\n"
          ]
        }
      ]
    },
    {
      "cell_type": "code",
      "source": [
        "#Data type\n",
        "f.dtype"
      ],
      "metadata": {
        "colab": {
          "base_uri": "https://localhost:8080/"
        },
        "id": "X87ZnHmAI3FU",
        "outputId": "0abca038-d047-4af6-b862-465ab2245c80"
      },
      "execution_count": null,
      "outputs": [
        {
          "output_type": "execute_result",
          "data": {
            "text/plain": [
              "dtype('int64')"
            ]
          },
          "metadata": {},
          "execution_count": 6
        }
      ]
    },
    {
      "cell_type": "code",
      "source": [
        "#item size\n",
        "f.itemsize"
      ],
      "metadata": {
        "id": "8UuNUnsrVwa6",
        "outputId": "32d14ef4-4e92-4a38-e5f7-8c51ebea99b0",
        "colab": {
          "base_uri": "https://localhost:8080/"
        }
      },
      "execution_count": null,
      "outputs": [
        {
          "output_type": "execute_result",
          "data": {
            "text/plain": [
              "8"
            ]
          },
          "metadata": {},
          "execution_count": 7
        }
      ]
    },
    {
      "cell_type": "code",
      "source": [
        "#byte size\n",
        "f.nbytes"
      ],
      "metadata": {
        "id": "9ZMWo2NoWFxW",
        "outputId": "c8d74284-4a5b-4f89-d81a-13ee50e3e249",
        "colab": {
          "base_uri": "https://localhost:8080/"
        }
      },
      "execution_count": null,
      "outputs": [
        {
          "output_type": "execute_result",
          "data": {
            "text/plain": [
              "32"
            ]
          },
          "metadata": {},
          "execution_count": 8
        }
      ]
    },
    {
      "cell_type": "code",
      "source": [
        "#Create an array with 2 columns,3 rows and data filled with zeros, ones\n",
        "x = np.zeros((2,3))\n",
        "print(x) \n",
        "\n",
        "y = np.ones((2,3))\n",
        "print(y)\n",
        "\n",
        "#Multi-dimentional\n",
        "z = np.zeros((1,3,3))\n",
        "print(z)"
      ],
      "metadata": {
        "id": "iLsQRe_vYU5m",
        "outputId": "001e3efd-aafc-432e-d114-44459adccde1",
        "colab": {
          "base_uri": "https://localhost:8080/"
        }
      },
      "execution_count": null,
      "outputs": [
        {
          "output_type": "stream",
          "name": "stdout",
          "text": [
            "[[0. 0. 0.]\n",
            " [0. 0. 0.]]\n",
            "[[1. 1. 1.]\n",
            " [1. 1. 1.]]\n",
            "[[[0. 0. 0.]\n",
            "  [0. 0. 0.]\n",
            "  [0. 0. 0.]]]\n"
          ]
        }
      ]
    },
    {
      "cell_type": "code",
      "source": [
        "#Data fill with full\n",
        "x = np.full((2,3), 99)\n",
        "print(x)"
      ],
      "metadata": {
        "id": "rdIxvxoiZ793",
        "outputId": "4b1ca905-5e7c-4992-8582-51a3712a7d58",
        "colab": {
          "base_uri": "https://localhost:8080/"
        }
      },
      "execution_count": null,
      "outputs": [
        {
          "output_type": "stream",
          "name": "stdout",
          "text": [
            "[[99 99 99]\n",
            " [99 99 99]]\n"
          ]
        }
      ]
    },
    {
      "cell_type": "code",
      "source": [
        "# Fill with random numbers\n",
        "v = np.random.rand(3,4)\n",
        "print(v)"
      ],
      "metadata": {
        "id": "woD8MFCLaPj1",
        "outputId": "ebe2cecb-07af-444d-d75c-e551ba7d5e63",
        "colab": {
          "base_uri": "https://localhost:8080/"
        }
      },
      "execution_count": null,
      "outputs": [
        {
          "output_type": "stream",
          "name": "stdout",
          "text": [
            "[[0.21735667 0.87211968 0.77895963 0.59677804]\n",
            " [0.66398777 0.04575807 0.88868386 0.42251061]\n",
            " [0.86334868 0.39912848 0.20689759 0.30186208]]\n"
          ]
        }
      ]
    },
    {
      "cell_type": "code",
      "source": [
        "#Slicing\n",
        "a = np.array([[1,2,3,4,5,6,7],[8,9,10,11,12,13,14]])\n",
        "\n",
        "#Access 6\n",
        "print(a[0, 5])\n",
        "#Access 10\n",
        "print(a[1, 2])"
      ],
      "metadata": {
        "colab": {
          "base_uri": "https://localhost:8080/"
        },
        "id": "YUYRGYyMI8mX",
        "outputId": "841aebe2-e3f0-49d8-edf8-7c29c37fd0a1"
      },
      "execution_count": null,
      "outputs": [
        {
          "output_type": "stream",
          "name": "stdout",
          "text": [
            "6\n",
            "10\n"
          ]
        }
      ]
    },
    {
      "cell_type": "code",
      "source": [
        "#Manipulation\n",
        "a = np.array([[1,2,3,4,5,6,7],[8,9,10,11,12,13,14]])\n",
        "print(a)\n",
        "\n",
        "#replace 7 with 9\n",
        "a[0, 6] = 9\n",
        "\n",
        "print(a)"
      ],
      "metadata": {
        "colab": {
          "base_uri": "https://localhost:8080/"
        },
        "id": "lg-9H43OLweM",
        "outputId": "50b7f7f5-6c9f-4f6a-ae2a-c6f3a553f974"
      },
      "execution_count": null,
      "outputs": [
        {
          "output_type": "stream",
          "name": "stdout",
          "text": [
            "[[ 1  2  3  4  5  6  7]\n",
            " [ 8  9 10 11 12 13 14]]\n",
            "[[ 1  2  3  4  5  6  9]\n",
            " [ 8  9 10 11 12 13 14]]\n"
          ]
        }
      ]
    },
    {
      "cell_type": "code",
      "source": [
        "#Matrix - convert an array to matrix\n",
        "\n",
        "a = np.array([1,2])\n",
        "print(type(a))\n",
        "\n",
        "b = np.matrix(a)\n",
        "print(type(b))"
      ],
      "metadata": {
        "colab": {
          "base_uri": "https://localhost:8080/"
        },
        "id": "iiZvLDfcMjV6",
        "outputId": "92ddabbf-2047-4b61-aa35-e9b04a4ebc8b"
      },
      "execution_count": null,
      "outputs": [
        {
          "output_type": "stream",
          "name": "stdout",
          "text": [
            "<class 'numpy.ndarray'>\n",
            "<class 'numpy.matrix'>\n"
          ]
        }
      ]
    },
    {
      "cell_type": "code",
      "source": [
        "#identity matrix\n",
        "z = np.identity(5)\n",
        "print(z)"
      ],
      "metadata": {
        "id": "EQk6zLULa389",
        "outputId": "fa356f0b-fa83-40f8-ff7c-61c51574f5f5",
        "colab": {
          "base_uri": "https://localhost:8080/"
        }
      },
      "execution_count": null,
      "outputs": [
        {
          "output_type": "stream",
          "name": "stdout",
          "text": [
            "[[1. 0. 0. 0. 0.]\n",
            " [0. 1. 0. 0. 0.]\n",
            " [0. 0. 1. 0. 0.]\n",
            " [0. 0. 0. 1. 0.]\n",
            " [0. 0. 0. 0. 1.]]\n"
          ]
        }
      ]
    },
    {
      "cell_type": "code",
      "source": [
        "#Maths with arrays\n",
        "x = np.array([1,2,3,4,5])\n",
        "\n",
        "print(x+2)\n",
        "print(x-1)\n",
        "print(x*2)\n",
        "print(x/2)\n",
        "print(np.cos(x))\n",
        "print(np.tan(x))"
      ],
      "metadata": {
        "colab": {
          "base_uri": "https://localhost:8080/"
        },
        "id": "gxa7K2UhM1gG",
        "outputId": "f792029c-171e-47d7-ab6e-298105f08de1"
      },
      "execution_count": null,
      "outputs": [
        {
          "output_type": "stream",
          "name": "stdout",
          "text": [
            "[3 4 5 6 7]\n",
            "[0 1 2 3 4]\n",
            "[ 2  4  6  8 10]\n",
            "[0.5 1.  1.5 2.  2.5]\n",
            "[ 0.54030231 -0.41614684 -0.9899925  -0.65364362  0.28366219]\n",
            "[ 1.55740772 -2.18503986 -0.14254654  1.15782128 -3.38051501]\n"
          ]
        }
      ]
    },
    {
      "cell_type": "code",
      "source": [
        "#DataType mapping and memory - bitsize\n",
        "my_arr = np.array([(1,2),(3,4)], dtype=[('a', '<i1'),('b','<i8')])\n",
        "\n",
        "a = (my_arr[0][0])\n",
        "b = (my_arr[0][1])\n",
        "c = (my_arr[1][0])\n",
        "d = (my_arr[1][1])\n",
        "\n",
        "print(a)\n",
        "print(b)\n",
        "print(c)\n",
        "print(d)\n",
        "\n",
        "print(type(a))\n",
        "print(type(b))\n",
        "print(type(c))\n",
        "print(type(d))"
      ],
      "metadata": {
        "colab": {
          "base_uri": "https://localhost:8080/"
        },
        "id": "mfU1tD23Oory",
        "outputId": "9ec75d21-a610-4695-c187-155be26f9319"
      },
      "execution_count": null,
      "outputs": [
        {
          "output_type": "stream",
          "name": "stdout",
          "text": [
            "1\n",
            "2\n",
            "3\n",
            "4\n",
            "<class 'numpy.int8'>\n",
            "<class 'numpy.int64'>\n",
            "<class 'numpy.int8'>\n",
            "<class 'numpy.int64'>\n"
          ]
        }
      ]
    }
  ]
}